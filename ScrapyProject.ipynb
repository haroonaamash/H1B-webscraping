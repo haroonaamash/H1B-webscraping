{
 "cells": [
  {
   "cell_type": "code",
   "execution_count": 16,
   "metadata": {},
   "outputs": [
    {
     "name": "stdout",
     "output_type": "stream",
     "text": [
      "[Errno 2] No such file or directory: 'desktop/H1Bscrapy'\n",
      "/Users/aamashharoon/Desktop/H1Bscrapy\n"
     ]
    }
   ],
   "source": [
    "%cd \"desktop/H1Bscrapy\""
   ]
  },
  {
   "cell_type": "code",
   "execution_count": 11,
   "metadata": {},
   "outputs": [],
   "source": [
    "import pandas as pd\n",
    "import numpy as np\n",
    "import matplotlib.pyplot as plt\n",
    "import string as st\n",
    "import seaborn as sns\n",
    "import sys "
   ]
  },
  {
   "cell_type": "code",
   "execution_count": 17,
   "metadata": {},
   "outputs": [
    {
     "data": {
      "text/plain": [
       "'/Users/aamashharoon/Desktop/H1Bscrapy'"
      ]
     },
     "execution_count": 17,
     "metadata": {},
     "output_type": "execute_result"
    }
   ],
   "source": [
    "pwd()"
   ]
  },
  {
   "cell_type": "code",
   "execution_count": 32,
   "metadata": {},
   "outputs": [
    {
     "data": {
      "text/html": [
       "<div>\n",
       "<style scoped>\n",
       "    .dataframe tbody tr th:only-of-type {\n",
       "        vertical-align: middle;\n",
       "    }\n",
       "\n",
       "    .dataframe tbody tr th {\n",
       "        vertical-align: top;\n",
       "    }\n",
       "\n",
       "    .dataframe thead th {\n",
       "        text-align: right;\n",
       "    }\n",
       "</style>\n",
       "<table border=\"1\" class=\"dataframe\">\n",
       "  <thead>\n",
       "    <tr style=\"text-align: right;\">\n",
       "      <th></th>\n",
       "      <th>Unnamed: 0</th>\n",
       "      <th>base_salary</th>\n",
       "      <th>employer</th>\n",
       "      <th>job</th>\n",
       "      <th>job_title</th>\n",
       "      <th>location1</th>\n",
       "      <th>no_of_h1b_filings</th>\n",
       "      <th>start_date</th>\n",
       "      <th>status</th>\n",
       "      <th>submit_date</th>\n",
       "      <th>Start.Year</th>\n",
       "      <th>Submit.Year</th>\n",
       "      <th>Submit.Month</th>\n",
       "      <th>Start.Month</th>\n",
       "    </tr>\n",
       "  </thead>\n",
       "  <tbody>\n",
       "    <tr>\n",
       "      <th>0</th>\n",
       "      <td>1</td>\n",
       "      <td>61240.0</td>\n",
       "      <td>INFOSYS LIMITED</td>\n",
       "      <td>TECHNOLOGY ANALYST - US</td>\n",
       "      <td>TECHNOLOGY ANALYST - US</td>\n",
       "      <td>LONG BEACH, CA</td>\n",
       "      <td>18670</td>\n",
       "      <td>1/13/14</td>\n",
       "      <td>CERTIFIED</td>\n",
       "      <td>1/2/14</td>\n",
       "      <td>2014</td>\n",
       "      <td>2014</td>\n",
       "      <td>1</td>\n",
       "      <td>1</td>\n",
       "    </tr>\n",
       "    <tr>\n",
       "      <th>1</th>\n",
       "      <td>2</td>\n",
       "      <td>61700.0</td>\n",
       "      <td>INFOSYS LIMITED</td>\n",
       "      <td>TECHNOLOGY ANALYST - US</td>\n",
       "      <td>TECHNOLOGY ANALYST - US</td>\n",
       "      <td>IRVINE, CA</td>\n",
       "      <td>18670</td>\n",
       "      <td>1/1/14</td>\n",
       "      <td>CERTIFIED</td>\n",
       "      <td>11/15/13</td>\n",
       "      <td>2014</td>\n",
       "      <td>2013</td>\n",
       "      <td>11</td>\n",
       "      <td>1</td>\n",
       "    </tr>\n",
       "    <tr>\n",
       "      <th>2</th>\n",
       "      <td>3</td>\n",
       "      <td>61700.0</td>\n",
       "      <td>INFOSYS LIMITED</td>\n",
       "      <td>TECHNOLOGY ANALYST - US</td>\n",
       "      <td>TECHNOLOGY ANALYST - US</td>\n",
       "      <td>IRVINE, CA</td>\n",
       "      <td>18670</td>\n",
       "      <td>12/27/13</td>\n",
       "      <td>CERTIFIED</td>\n",
       "      <td>12/16/13</td>\n",
       "      <td>2013</td>\n",
       "      <td>2013</td>\n",
       "      <td>12</td>\n",
       "      <td>12</td>\n",
       "    </tr>\n",
       "    <tr>\n",
       "      <th>3</th>\n",
       "      <td>4</td>\n",
       "      <td>61700.0</td>\n",
       "      <td>INFOSYS LIMITED</td>\n",
       "      <td>TECHNOLOGY ANALYST - US</td>\n",
       "      <td>TECHNOLOGY ANALYST - US</td>\n",
       "      <td>IRVINE, CA</td>\n",
       "      <td>18670</td>\n",
       "      <td>2/7/14</td>\n",
       "      <td>CERTIFIED</td>\n",
       "      <td>1/27/14</td>\n",
       "      <td>2014</td>\n",
       "      <td>2014</td>\n",
       "      <td>1</td>\n",
       "      <td>2</td>\n",
       "    </tr>\n",
       "    <tr>\n",
       "      <th>4</th>\n",
       "      <td>5</td>\n",
       "      <td>61700.0</td>\n",
       "      <td>INFOSYS LIMITED</td>\n",
       "      <td>TECHNOLOGY ANALYST - US</td>\n",
       "      <td>TECHNOLOGY ANALYST - US</td>\n",
       "      <td>IRVINE, CA</td>\n",
       "      <td>18670</td>\n",
       "      <td>2/9/14</td>\n",
       "      <td>CERTIFIED</td>\n",
       "      <td>1/29/14</td>\n",
       "      <td>2014</td>\n",
       "      <td>2014</td>\n",
       "      <td>1</td>\n",
       "      <td>2</td>\n",
       "    </tr>\n",
       "  </tbody>\n",
       "</table>\n",
       "</div>"
      ],
      "text/plain": [
       "   Unnamed: 0  base_salary         employer                      job  \\\n",
       "0           1      61240.0  INFOSYS LIMITED  TECHNOLOGY ANALYST - US   \n",
       "1           2      61700.0  INFOSYS LIMITED  TECHNOLOGY ANALYST - US   \n",
       "2           3      61700.0  INFOSYS LIMITED  TECHNOLOGY ANALYST - US   \n",
       "3           4      61700.0  INFOSYS LIMITED  TECHNOLOGY ANALYST - US   \n",
       "4           5      61700.0  INFOSYS LIMITED  TECHNOLOGY ANALYST - US   \n",
       "\n",
       "                 job_title       location1  no_of_h1b_filings start_date  \\\n",
       "0  TECHNOLOGY ANALYST - US  LONG BEACH, CA              18670    1/13/14   \n",
       "1  TECHNOLOGY ANALYST - US      IRVINE, CA              18670     1/1/14   \n",
       "2  TECHNOLOGY ANALYST - US      IRVINE, CA              18670   12/27/13   \n",
       "3  TECHNOLOGY ANALYST - US      IRVINE, CA              18670     2/7/14   \n",
       "4  TECHNOLOGY ANALYST - US      IRVINE, CA              18670     2/9/14   \n",
       "\n",
       "      status submit_date  Start.Year  Submit.Year  Submit.Month  Start.Month  \n",
       "0  CERTIFIED      1/2/14        2014         2014             1            1  \n",
       "1  CERTIFIED    11/15/13        2014         2013            11            1  \n",
       "2  CERTIFIED    12/16/13        2013         2013            12           12  \n",
       "3  CERTIFIED     1/27/14        2014         2014             1            2  \n",
       "4  CERTIFIED     1/29/14        2014         2014             1            2  "
      ]
     },
     "execution_count": 32,
     "metadata": {},
     "output_type": "execute_result"
    }
   ],
   "source": [
    "df=pd.read_csv('H1B.csv', encoding = \"ISO-8859-1\")\n",
    "df.head()\n"
   ]
  },
  {
   "cell_type": "code",
   "execution_count": 33,
   "metadata": {},
   "outputs": [],
   "source": [
    "df['state'] = df['location1'].str.split().str[-1] "
   ]
  },
  {
   "cell_type": "code",
   "execution_count": 38,
   "metadata": {},
   "outputs": [
    {
     "data": {
      "text/html": [
       "<div>\n",
       "<style scoped>\n",
       "    .dataframe tbody tr th:only-of-type {\n",
       "        vertical-align: middle;\n",
       "    }\n",
       "\n",
       "    .dataframe tbody tr th {\n",
       "        vertical-align: top;\n",
       "    }\n",
       "\n",
       "    .dataframe thead th {\n",
       "        text-align: right;\n",
       "    }\n",
       "</style>\n",
       "<table border=\"1\" class=\"dataframe\">\n",
       "  <thead>\n",
       "    <tr style=\"text-align: right;\">\n",
       "      <th></th>\n",
       "      <th>Unnamed: 0</th>\n",
       "      <th>base_salary</th>\n",
       "      <th>employer</th>\n",
       "      <th>job</th>\n",
       "      <th>job_title</th>\n",
       "      <th>location1</th>\n",
       "      <th>no_of_h1b_filings</th>\n",
       "      <th>start_date</th>\n",
       "      <th>status</th>\n",
       "      <th>submit_date</th>\n",
       "      <th>Start.Year</th>\n",
       "      <th>Submit.Year</th>\n",
       "      <th>Submit.Month</th>\n",
       "      <th>Start.Month</th>\n",
       "      <th>state</th>\n",
       "    </tr>\n",
       "  </thead>\n",
       "  <tbody>\n",
       "    <tr>\n",
       "      <th>0</th>\n",
       "      <td>1</td>\n",
       "      <td>61240.0</td>\n",
       "      <td>INFOSYS LIMITED</td>\n",
       "      <td>TECHNOLOGY ANALYST - US</td>\n",
       "      <td>TECHNOLOGY ANALYST - US</td>\n",
       "      <td>LONG BEACH, CA</td>\n",
       "      <td>18670</td>\n",
       "      <td>1/13/14</td>\n",
       "      <td>CERTIFIED</td>\n",
       "      <td>1/2/14</td>\n",
       "      <td>2014</td>\n",
       "      <td>2014</td>\n",
       "      <td>1</td>\n",
       "      <td>1</td>\n",
       "      <td>CA</td>\n",
       "    </tr>\n",
       "    <tr>\n",
       "      <th>1</th>\n",
       "      <td>2</td>\n",
       "      <td>61700.0</td>\n",
       "      <td>INFOSYS LIMITED</td>\n",
       "      <td>TECHNOLOGY ANALYST - US</td>\n",
       "      <td>TECHNOLOGY ANALYST - US</td>\n",
       "      <td>IRVINE, CA</td>\n",
       "      <td>18670</td>\n",
       "      <td>1/1/14</td>\n",
       "      <td>CERTIFIED</td>\n",
       "      <td>11/15/13</td>\n",
       "      <td>2014</td>\n",
       "      <td>2013</td>\n",
       "      <td>11</td>\n",
       "      <td>1</td>\n",
       "      <td>CA</td>\n",
       "    </tr>\n",
       "    <tr>\n",
       "      <th>2</th>\n",
       "      <td>3</td>\n",
       "      <td>61700.0</td>\n",
       "      <td>INFOSYS LIMITED</td>\n",
       "      <td>TECHNOLOGY ANALYST - US</td>\n",
       "      <td>TECHNOLOGY ANALYST - US</td>\n",
       "      <td>IRVINE, CA</td>\n",
       "      <td>18670</td>\n",
       "      <td>12/27/13</td>\n",
       "      <td>CERTIFIED</td>\n",
       "      <td>12/16/13</td>\n",
       "      <td>2013</td>\n",
       "      <td>2013</td>\n",
       "      <td>12</td>\n",
       "      <td>12</td>\n",
       "      <td>CA</td>\n",
       "    </tr>\n",
       "    <tr>\n",
       "      <th>3</th>\n",
       "      <td>4</td>\n",
       "      <td>61700.0</td>\n",
       "      <td>INFOSYS LIMITED</td>\n",
       "      <td>TECHNOLOGY ANALYST - US</td>\n",
       "      <td>TECHNOLOGY ANALYST - US</td>\n",
       "      <td>IRVINE, CA</td>\n",
       "      <td>18670</td>\n",
       "      <td>2/7/14</td>\n",
       "      <td>CERTIFIED</td>\n",
       "      <td>1/27/14</td>\n",
       "      <td>2014</td>\n",
       "      <td>2014</td>\n",
       "      <td>1</td>\n",
       "      <td>2</td>\n",
       "      <td>CA</td>\n",
       "    </tr>\n",
       "    <tr>\n",
       "      <th>4</th>\n",
       "      <td>5</td>\n",
       "      <td>61700.0</td>\n",
       "      <td>INFOSYS LIMITED</td>\n",
       "      <td>TECHNOLOGY ANALYST - US</td>\n",
       "      <td>TECHNOLOGY ANALYST - US</td>\n",
       "      <td>IRVINE, CA</td>\n",
       "      <td>18670</td>\n",
       "      <td>2/9/14</td>\n",
       "      <td>CERTIFIED</td>\n",
       "      <td>1/29/14</td>\n",
       "      <td>2014</td>\n",
       "      <td>2014</td>\n",
       "      <td>1</td>\n",
       "      <td>2</td>\n",
       "      <td>CA</td>\n",
       "    </tr>\n",
       "  </tbody>\n",
       "</table>\n",
       "</div>"
      ],
      "text/plain": [
       "   Unnamed: 0  base_salary         employer                      job  \\\n",
       "0           1      61240.0  INFOSYS LIMITED  TECHNOLOGY ANALYST - US   \n",
       "1           2      61700.0  INFOSYS LIMITED  TECHNOLOGY ANALYST - US   \n",
       "2           3      61700.0  INFOSYS LIMITED  TECHNOLOGY ANALYST - US   \n",
       "3           4      61700.0  INFOSYS LIMITED  TECHNOLOGY ANALYST - US   \n",
       "4           5      61700.0  INFOSYS LIMITED  TECHNOLOGY ANALYST - US   \n",
       "\n",
       "                 job_title       location1  no_of_h1b_filings start_date  \\\n",
       "0  TECHNOLOGY ANALYST - US  LONG BEACH, CA              18670    1/13/14   \n",
       "1  TECHNOLOGY ANALYST - US      IRVINE, CA              18670     1/1/14   \n",
       "2  TECHNOLOGY ANALYST - US      IRVINE, CA              18670   12/27/13   \n",
       "3  TECHNOLOGY ANALYST - US      IRVINE, CA              18670     2/7/14   \n",
       "4  TECHNOLOGY ANALYST - US      IRVINE, CA              18670     2/9/14   \n",
       "\n",
       "      status submit_date  Start.Year  Submit.Year  Submit.Month  Start.Month  \\\n",
       "0  CERTIFIED      1/2/14        2014         2014             1            1   \n",
       "1  CERTIFIED    11/15/13        2014         2013            11            1   \n",
       "2  CERTIFIED    12/16/13        2013         2013            12           12   \n",
       "3  CERTIFIED     1/27/14        2014         2014             1            2   \n",
       "4  CERTIFIED     1/29/14        2014         2014             1            2   \n",
       "\n",
       "  state  \n",
       "0    CA  \n",
       "1    CA  \n",
       "2    CA  \n",
       "3    CA  \n",
       "4    CA  "
      ]
     },
     "execution_count": 38,
     "metadata": {},
     "output_type": "execute_result"
    }
   ],
   "source": [
    "df.head()"
   ]
  },
  {
   "cell_type": "code",
   "execution_count": 96,
   "metadata": {},
   "outputs": [],
   "source": [
    "def position_comparison_ttl(list_of_dataframe):\n",
    "    frame = list_of_dataframe\n",
    "    all_df = pd.concat(frame)\n",
    "    \n",
    "    position_sum = all_df.groupby('job_title')['job_title'].aggregate({'Job_no': \\\n",
    "                             'count'}).sort_values(by='Job_no', ascending = False)\n",
    "    width = 0.4\n",
    "    ind = np.arange(len(position_sum['Job_no']))\n",
    "    \n",
    "    fig, ax = plt.subplots(figsize = (13,8))\n",
    "    rect1 = ax.bar(ind, position_sum['Job_no'], width, color = 'green', label = 'number of H1B issue')\n",
    "    \n",
    "    ax.set_xlabel('Potition')\n",
    "    ax.set_ylabel('H1B Issue Number')\n",
    "    ax.set_title('H1B Issue Number across Positions')\n",
    "    ax.set_xticks(ind)\n",
    "    ax.set_xticklabels(tuple(position_sum.index.get_values()))\n",
    "    ax.legend()\n",
    "    plt.show()"
   ]
  },
  {
   "cell_type": "code",
   "execution_count": 176,
   "metadata": {},
   "outputs": [],
   "source": []
  },
  {
   "cell_type": "code",
   "execution_count": null,
   "metadata": {},
   "outputs": [],
   "source": [
    "################################################"
   ]
  },
  {
   "cell_type": "code",
   "execution_count": 186,
   "metadata": {},
   "outputs": [
    {
     "name": "stderr",
     "output_type": "stream",
     "text": [
      "/Users/aamashharoon/anaconda3/lib/python3.6/site-packages/ipykernel_launcher.py:9: SettingWithCopyWarning: \n",
      "A value is trying to be set on a copy of a slice from a DataFrame.\n",
      "Try using .loc[row_indexer,col_indexer] = value instead\n",
      "\n",
      "See the caveats in the documentation: http://pandas.pydata.org/pandas-docs/stable/indexing.html#indexing-view-versus-copy\n",
      "  if __name__ == '__main__':\n"
     ]
    }
   ],
   "source": [
    "#find all rows with 'FINANCE' in the job_title column\n",
    "fa=df.loc[\n",
    "    df['job_title'].apply(lambda x: \"FINANCE\" in x)\n",
    "]\n",
    "#These are all the different finance positions\n",
    "to_be_replaced_finance= set(fa['job_title'])\n",
    "\n",
    "#convert all finance positions into 'FINANCE POSITIONS' for graphing\n",
    "fa[\"job_title\"]=fa[\"job_title\"].apply(lambda x: \"FINANCE POSITIONS\" if x in to_be_replaced_finance else x)\n"
   ]
  },
  {
   "cell_type": "code",
   "execution_count": 200,
   "metadata": {},
   "outputs": [
    {
     "name": "stderr",
     "output_type": "stream",
     "text": [
      "/Users/aamashharoon/anaconda3/lib/python3.6/site-packages/ipykernel_launcher.py:11: SettingWithCopyWarning: \n",
      "A value is trying to be set on a copy of a slice from a DataFrame.\n",
      "Try using .loc[row_indexer,col_indexer] = value instead\n",
      "\n",
      "See the caveats in the documentation: http://pandas.pydata.org/pandas-docs/stable/indexing.html#indexing-view-versus-copy\n",
      "  # This is added back by InteractiveShellApp.init_path()\n"
     ]
    }
   ],
   "source": [
    "##find all rows related to pure data science in the job_title column\n",
    "ds=df[df['ds'] == True]\n",
    "set(ds['job_title'])\n",
    "\n",
    "to_be_rplaced = {    \n",
    "    'DATA SCIENCE ANALYST','LEAD DATA SCIENTIST', 'DATA SCIENTIST II',\n",
    "    'SR. DATA SCIENTIST', 'ASSOCIATE DATA SCIENTIST', 'SENIOR DATA SCIENTIST', 'ANALYTICS','AGRICULTURE DATA ANALYST'\n",
    "}\n",
    "#convert all data science positions into 'DATA SCIENTIST' for graphing\n",
    "ds['job_title'] = ds[\"job_title\"].apply(lambda x: \"DATA SCIENTIST\" if x in to_be_rplaced else x)\n"
   ]
  },
  {
   "cell_type": "code",
   "execution_count": 209,
   "metadata": {},
   "outputs": [
    {
     "name": "stderr",
     "output_type": "stream",
     "text": [
      "/Users/aamashharoon/anaconda3/lib/python3.6/site-packages/ipykernel_launcher.py:9: SettingWithCopyWarning: \n",
      "A value is trying to be set on a copy of a slice from a DataFrame.\n",
      "Try using .loc[row_indexer,col_indexer] = value instead\n",
      "\n",
      "See the caveats in the documentation: http://pandas.pydata.org/pandas-docs/stable/indexing.html#indexing-view-versus-copy\n",
      "  if __name__ == '__main__':\n"
     ]
    }
   ],
   "source": [
    "##all jobs related to DATA\n",
    "\n",
    "ds2=df.loc[\n",
    "    df['job_title'].apply(lambda x: \"DATA\" in x)]\n",
    "\n",
    "to_be_replaced_data= set(ds2['job_title'])\n",
    "\n",
    "ds2[\"job_title\"]=ds2[\"job_title\"].apply(lambda x: \"DATA POSITIONS\" if x in to_be_replaced_data else x)"
   ]
  },
  {
   "cell_type": "code",
   "execution_count": 111,
   "metadata": {},
   "outputs": [],
   "source": [
    "bs = df.loc[df['job_title'] == 'BUSINESS ANALYST']\n",
    "pa = df.loc[df['job_title'] == 'PRODUCT ANALYST']\n"
   ]
  },
  {
   "cell_type": "code",
   "execution_count": 211,
   "metadata": {},
   "outputs": [
    {
     "name": "stderr",
     "output_type": "stream",
     "text": [
      "/Users/aamashharoon/anaconda3/lib/python3.6/site-packages/ipykernel_launcher.py:3: FutureWarning: Sorting because non-concatenation axis is not aligned. A future version\n",
      "of pandas will change to not sort by default.\n",
      "\n",
      "To accept the future behavior, pass 'sort=True'.\n",
      "\n",
      "To retain the current behavior and silence the warning, pass sort=False\n",
      "\n",
      "  This is separate from the ipykernel package so we can avoid doing imports until\n",
      "/Users/aamashharoon/anaconda3/lib/python3.6/site-packages/ipykernel_launcher.py:5: FutureWarning: using a dict on a Series for aggregation\n",
      "is deprecated and will be removed in a future version\n",
      "  \"\"\"\n"
     ]
    },
    {
     "data": {
      "image/png": "[encoded data removed]",
      "text/plain": [
       "<Figure size 936x576 with 1 Axes>"
      ]
     },
     "metadata": {},
     "output_type": "display_data"
    }
   ],
   "source": [
    "list_of_dataframe = [bs,pa,fa,ds,ds2]\n",
    "position_comparison_ttl(list_of_dataframe)\n"
   ]
  },
  {
   "cell_type": "code",
   "execution_count": 91,
   "metadata": {},
   "outputs": [],
   "source": [
    "def position_no_yearly(list_of_dataframe):\n",
    "    frame = list_of_dataframe\n",
    "    all_df = pd.concat(frame)    \n",
    "    a = all_df.pivot_table('state', index = 'Submit.Year', columns = 'job_title', aggfunc= 'count')\n",
    "    for i in range(a.shape[1]):\n",
    "        plt.figure(figsize=(12, 10))\n",
    "        plt.subplot(a.shape[1],1,i+1)\n",
    "        plt.plot(a[a.columns[i]])\n",
    "        plt.title(st.capwords(a.columns[i]) + ' H1B Issue Number over Year')\n",
    "        plt.show()"
   ]
  },
  {
   "cell_type": "code",
   "execution_count": 212,
   "metadata": {},
   "outputs": [
    {
     "name": "stderr",
     "output_type": "stream",
     "text": [
      "/Users/aamashharoon/anaconda3/lib/python3.6/site-packages/ipykernel_launcher.py:3: FutureWarning: Sorting because non-concatenation axis is not aligned. A future version\n",
      "of pandas will change to not sort by default.\n",
      "\n",
      "To accept the future behavior, pass 'sort=True'.\n",
      "\n",
      "To retain the current behavior and silence the warning, pass sort=False\n",
      "\n",
      "  This is separate from the ipykernel package so we can avoid doing imports until\n"
     ]
    },
    {
     "data": {
      "image/png": "[encoded data removed]",
      "text/plain": [
       "<Figure size 864x720 with 1 Axes>"
      ]
     },
     "metadata": {},
     "output_type": "display_data"
    },
    {
     "data": {
      "image/png": "[encoded data removed]",
      "text/plain": [
       "<Figure size 864x720 with 1 Axes>"
      ]
     },
     "metadata": {},
     "output_type": "display_data"
    },
    {
     "data": {
      "image/png": "[encoded data removed]",
      "text/plain": [
       "<Figure size 864x720 with 1 Axes>"
      ]
     },
     "metadata": {},
     "output_type": "display_data"
    },
    {
     "data": {
      "image/png": "[encoded data removed]",
      "text/plain": [
       "<Figure size 864x720 with 1 Axes>"
      ]
     },
     "metadata": {},
     "output_type": "display_data"
    },
    {
     "data": {
      "image/png": "[encoded data removed]",
      "text/plain": [
       "<Figure size 864x720 with 1 Axes>"
      ]
     },
     "metadata": {},
     "output_type": "display_data"
    }
   ],
   "source": [
    "list_of_dataframe = [bs, pa, ds, fa, ds2]\n",
    "position_no_yearly(list_of_dataframe)"
   ]
  },
  {
   "cell_type": "code",
   "execution_count": 100,
   "metadata": {},
   "outputs": [],
   "source": [
    "#Base salary distributions\n",
    "def compare_salary(list_of_dataframe):\n",
    "    all_df = pd.concat(list_of_dataframe)\n",
    "    all_df = all_df[all_df['base_salary']<300000]\n",
    "\n",
    "    fig, bx = plt.subplots(figsize = (13,8))\n",
    "    sns.boxplot(x = 'job_title', y = 'base_salary', data = all_df)\n",
    "    bx.set_title('Base Salary Distribution for Different Positions' )\n",
    "    plt.show()\n",
    "    "
   ]
  },
  {
   "cell_type": "code",
   "execution_count": 213,
   "metadata": {},
   "outputs": [
    {
     "name": "stderr",
     "output_type": "stream",
     "text": [
      "/Users/aamashharoon/anaconda3/lib/python3.6/site-packages/ipykernel_launcher.py:3: FutureWarning: Sorting because non-concatenation axis is not aligned. A future version\n",
      "of pandas will change to not sort by default.\n",
      "\n",
      "To accept the future behavior, pass 'sort=True'.\n",
      "\n",
      "To retain the current behavior and silence the warning, pass sort=False\n",
      "\n",
      "  This is separate from the ipykernel package so we can avoid doing imports until\n"
     ]
    },
    {
     "data": {
      "image/png": "[encoded data removed]",
      "text/plain": [
       "<Figure size 936x576 with 1 Axes>"
      ]
     },
     "metadata": {},
     "output_type": "display_data"
    }
   ],
   "source": [
    "list_of_dataframe = [bs, pa, ds, fa, ds2]\n",
    "compare_salary(list_of_dataframe)"
   ]
  },
  {
   "cell_type": "code",
   "execution_count": 228,
   "metadata": {},
   "outputs": [
    {
     "name": "stdout",
     "output_type": "stream",
     "text": [
      "Solving environment: done\n",
      "\n",
      "# All requested packages already installed.\n",
      "\n"
     ]
    }
   ],
   "source": [
    "# Install a conda package in the current Jupyter kernel\n",
    "import sys\n",
    "!conda install basemap\n"
   ]
  },
  {
   "cell_type": "code",
   "execution_count": 8,
   "metadata": {},
   "outputs": [],
   "source": [
    "import os\n",
    "import conda\n",
    "\n",
    "conda_file_dir = conda.__file__\n",
    "conda_dir = conda_file_dir.split('lib')[0]\n",
    "proj_lib = os.path.join(os.path.join(conda_dir, 'share'), 'proj')\n",
    "os.environ[\"PROJ_LIB\"] = proj_lib"
   ]
  },
  {
   "cell_type": "code",
   "execution_count": 9,
   "metadata": {},
   "outputs": [],
   "source": [
    "\n",
    "import matplotlib.cm\n",
    "from mpl_toolkits.basemap import Basemap\n",
    "from matplotlib.patches import Polygon\n",
    "from matplotlib.collections import PatchCollection\n",
    "from matplotlib.colors import Normalize\n"
   ]
  },
  {
   "cell_type": "code",
   "execution_count": 12,
   "metadata": {},
   "outputs": [
    {
     "data": {
      "image/png": "[encoded data removed]",
      "text/plain": [
       "<Figure size 720x1440 with 1 Axes>"
      ]
     },
     "metadata": {},
     "output_type": "display_data"
    }
   ],
   "source": [
    "fig, ax = plt.subplots(figsize=(10,20))\n"
   ]
  },
  {
   "cell_type": "code",
   "execution_count": 14,
   "metadata": {},
   "outputs": [],
   "source": [
    "m = Basemap(resolution='c', # c, l, i, h, f or None\n",
    "            projection='merc',\n",
    "            lat_0=54.5, lon_0=-4.36,\n",
    "            llcrnrlon=-6., llcrnrlat= 49.5, urcrnrlon=2., urcrnrlat=55.2)\n",
    "\n",
    "m = Basemap(resolution='c', # c, l, i, h, f or None\n",
    "            projection='merc',\n",
    "            lat_0=54.5, lon_0=-4.36,\n",
    "            llcrnrlon=-6., llcrnrlat= 49.5, urcrnrlon=2., urcrnrlat=55.2)"
   ]
  },
  {
   "cell_type": "code",
   "execution_count": 15,
   "metadata": {},
   "outputs": [
    {
     "data": {
      "text/plain": [
       "<matplotlib.collections.LineCollection at 0x10a9aba20>"
      ]
     },
     "execution_count": 15,
     "metadata": {},
     "output_type": "execute_result"
    },
    {
     "data": {
      "image/png": "[encoded data removed]",
      "text/plain": [
       "<Figure size 432x288 with 1 Axes>"
      ]
     },
     "metadata": {},
     "output_type": "display_data"
    }
   ],
   "source": [
    "\n",
    "m.drawmapboundary(fill_color='#46bcec')\n",
    "m.fillcontinents(color='#f2f2f2',lake_color='#46bcec')\n",
    "m.drawcoastlines()"
   ]
  },
  {
   "cell_type": "code",
   "execution_count": null,
   "metadata": {},
   "outputs": [],
   "source": []
  }
 ],
 "metadata": {
  "kernelspec": {
   "display_name": "Python 3",
   "language": "python",
   "name": "python3"
  }
 },
 "nbformat": 4,
 "nbformat_minor": 2
}
